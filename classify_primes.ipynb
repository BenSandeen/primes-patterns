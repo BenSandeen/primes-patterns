{
 "cells": [
  {
   "cell_type": "code",
   "execution_count": 125,
   "metadata": {
    "collapsed": true
   },
   "outputs": [],
   "source": [
    "import numpy as np\n",
    "from sys import argv\n",
    "import matplotlib.pyplot as plt\n",
    "import cProfile\n",
    "import re\n",
    "import pstats\n",
    "import time\n",
    "from sklearn import tree\n",
    "%matplotlib inline"
   ]
  },
  {
   "cell_type": "code",
   "execution_count": 126,
   "metadata": {
    "collapsed": true
   },
   "outputs": [],
   "source": [
    "file_of_primes = \"primes1.txt\"\n",
    "num_primes_to_use = 7\n",
    "binary_number_lengths = 24\n",
    "plot_diffs = False"
   ]
  },
  {
   "cell_type": "code",
   "execution_count": 158,
   "metadata": {
    "collapsed": true
   },
   "outputs": [],
   "source": [
    "def load_numbers_and_put_in_array(file_name):\n",
    "    \"\"\"Loads numbers from a text file and returns as nice, 1D array containing all the numbers in the file\"\"\"\n",
    "    numbers = np.genfromtxt(file_name,dtype='int32')\n",
    "    numbers = np.ndarray.flatten(numbers)\n",
    "    return numbers"
   ]
  },
  {
   "cell_type": "code",
   "execution_count": 128,
   "metadata": {
    "collapsed": true
   },
   "outputs": [],
   "source": [
    "def get_training_samples(primes):\n",
    "    \"\"\"Takes in array of primes (ordered by increasing value) and creates numpy array of integers up to and including\n",
    "       the largest number in the primes array\"\"\"\n",
    "    return np.arange(primes[-1]+1) # add 1 so that largest prime is included in array"
   ]
  },
  {
   "cell_type": "code",
   "execution_count": 129,
   "metadata": {
    "collapsed": true
   },
   "outputs": [],
   "source": [
    "def convert_number_to_binary(number, num_bits):\n",
    "    \"\"\"Converts individual numbers into the binary representation of the length we want to use\"\"\"\n",
    "    return np.binary_repr(number, width=num_bits)"
   ]
  },
  {
   "cell_type": "code",
   "execution_count": 130,
   "metadata": {
    "collapsed": true
   },
   "outputs": [],
   "source": [
    "def convert_array_to_binary(number_array, num_bits):\n",
    "    \"\"\"Converts individual numbers into the binary representation of the length we want to use\"\"\"\n",
    "    bin_array = np.array([np.binary_repr(number, width=num_bits) for number in number_array])\n",
    "    \n",
    "    # convert binary strings into vectors of bools.  e.g.: '1010011' --> [1,0,1,0,0,1,1]\n",
    "    return [[int(i) for i in element] for element in bin_array]"
   ]
  },
  {
   "cell_type": "code",
   "execution_count": 131,
   "metadata": {
    "collapsed": true
   },
   "outputs": [],
   "source": [
    "def classify_training_samples(num_array, primes):\n",
    "    \"\"\"Takes in array of all training samples and another of all primes (ordered by increasing value) being used\n",
    "       and creates numpy array of integers up to and including the largest number in the primes array, and simply\n",
    "       assigns a value of 0 or 1 at each index, depending on whether the number is prime:\n",
    "           1: number is prime\n",
    "           0: number is not prime\"\"\"\n",
    "    classes = np.zeros(num_array[-1]+1) # add 1 so that largest number is included in array\n",
    "    for i in primes:\n",
    "        classes[i] = 1\n",
    "    return classes"
   ]
  },
  {
   "cell_type": "code",
   "execution_count": 132,
   "metadata": {
    "collapsed": true
   },
   "outputs": [],
   "source": [
    "def learn_classification(training_samples, training_sample_classes):\n",
    "    \"\"\"Make the classifier for the training data\"\"\"\n",
    "    clf = tree.DecisionTreeClassifier()\n",
    "    clf = clf.fit(training_samples, training_sample_classes)\n",
    "    return clf"
   ]
  },
  {
   "cell_type": "code",
   "execution_count": 156,
   "metadata": {
    "collapsed": true
   },
   "outputs": [],
   "source": [
    "def predict_for_more_numbers(max_number, clf, primes, binary_number_lengths):\n",
    "    \"\"\"Tries predicting for numbers that weren't trained upon, using an array containing only numbers after those upon\n",
    "       which the classifier was trained\"\"\"\n",
    "    num_array = np.arange(primes[-1], max_number)\n",
    "    binary_num_array = convert_data(num_array, binary_number_lengths)\n",
    "    print(binary_num_array)\n",
    "    return clf.predict([binary_num_array])"
   ]
  },
  {
   "cell_type": "code",
   "execution_count": 145,
   "metadata": {
    "collapsed": true
   },
   "outputs": [],
   "source": [
    "def convert_data(num_array, binary_number_lengths):\n",
    "    \"\"\"Converts an array of numbers to the format needed for machine learning: binary\"\"\"\n",
    "    num_array = [string(element) for element in num_array]\n",
    "    binary_training_samples = convert_array_to_binary(num_array, binary_number_lengths)\n",
    "    return binary_training_samples"
   ]
  },
  {
   "cell_type": "code",
   "execution_count": 162,
   "metadata": {
    "collapsed": true
   },
   "outputs": [],
   "source": [
    "primes = load_numbers_and_put_in_array(file_of_primes)\n",
    "training_primes = primes[0:min(len(primes),int(num_primes_to_use))+1]\n"
   ]
  },
  {
   "cell_type": "code",
   "execution_count": 160,
   "metadata": {
    "collapsed": false
   },
   "outputs": [],
   "source": [
    "def do_machine_learning(file_name, num_primes_to_use, training_primes, binary_number_lengths):\n",
    "    \"\"\"Calls all the helper functions to do the machine learning\"\"\"\n",
    "#     primes = load_numbers_and_put_in_array(file_name, num_primes_to_use)\n",
    "    print(\"got primes\")\n",
    "    training_samples = get_training_samples(training_primes)\n",
    "    print(\"got training samples\")\n",
    "    binary_training_samples = convert_array_to_binary(training_samples, binary_number_lengths)\n",
    "    print(\"got binary representations\")\n",
    "    classifications = classify_training_samples(training_samples, primes)\n",
    "    print(\"got classifications\")\n",
    "    classifier = learn_classification(binary_training_samples, classifications)\n",
    "    print(\"got classifier\")\n",
    "    return predict_for_more_numbers(num_primes_to_use*2, classifier, primes, binary_number_lengths)"
   ]
  },
  {
   "cell_type": "code",
   "execution_count": 163,
   "metadata": {
    "collapsed": false
   },
   "outputs": [
    {
     "name": "stdout",
     "output_type": "stream",
     "text": [
      "got primes\n",
      "got training samples\n",
      "got binary representations\n"
     ]
    },
    {
     "ename": "IndexError",
     "evalue": "index 23 is out of bounds for axis 0 with size 20",
     "output_type": "error",
     "traceback": [
      "\u001b[1;31m---------------------------------------------------------------------------\u001b[0m",
      "\u001b[1;31mIndexError\u001b[0m                                Traceback (most recent call last)",
      "\u001b[1;32m<ipython-input-163-f606342df7f9>\u001b[0m in \u001b[0;36m<module>\u001b[1;34m()\u001b[0m\n\u001b[1;32m----> 1\u001b[1;33m \u001b[0mx\u001b[0m \u001b[1;33m=\u001b[0m \u001b[0mdo_machine_learning\u001b[0m\u001b[1;33m(\u001b[0m\u001b[0mfile_of_primes\u001b[0m\u001b[1;33m,\u001b[0m \u001b[0mnum_primes_to_use\u001b[0m\u001b[1;33m,\u001b[0m \u001b[0mtraining_primes\u001b[0m\u001b[1;33m,\u001b[0m \u001b[0mbinary_number_lengths\u001b[0m\u001b[1;33m)\u001b[0m\u001b[1;33m\u001b[0m\u001b[0m\n\u001b[0m\u001b[0;32m      2\u001b[0m \u001b[1;32mprint\u001b[0m\u001b[1;33m(\u001b[0m\u001b[0mx\u001b[0m\u001b[1;33m)\u001b[0m\u001b[1;33m\u001b[0m\u001b[0m\n",
      "\u001b[1;32m<ipython-input-160-36ba2ce010bb>\u001b[0m in \u001b[0;36mdo_machine_learning\u001b[1;34m(file_name, num_primes_to_use, training_primes, binary_number_lengths)\u001b[0m\n\u001b[0;32m      7\u001b[0m     \u001b[0mbinary_training_samples\u001b[0m \u001b[1;33m=\u001b[0m \u001b[0mconvert_array_to_binary\u001b[0m\u001b[1;33m(\u001b[0m\u001b[0mtraining_samples\u001b[0m\u001b[1;33m,\u001b[0m \u001b[0mbinary_number_lengths\u001b[0m\u001b[1;33m)\u001b[0m\u001b[1;33m\u001b[0m\u001b[0m\n\u001b[0;32m      8\u001b[0m     \u001b[1;32mprint\u001b[0m\u001b[1;33m(\u001b[0m\u001b[1;34m\"got binary representations\"\u001b[0m\u001b[1;33m)\u001b[0m\u001b[1;33m\u001b[0m\u001b[0m\n\u001b[1;32m----> 9\u001b[1;33m     \u001b[0mclassifications\u001b[0m \u001b[1;33m=\u001b[0m \u001b[0mclassify_training_samples\u001b[0m\u001b[1;33m(\u001b[0m\u001b[0mtraining_samples\u001b[0m\u001b[1;33m,\u001b[0m \u001b[0mprimes\u001b[0m\u001b[1;33m)\u001b[0m\u001b[1;33m\u001b[0m\u001b[0m\n\u001b[0m\u001b[0;32m     10\u001b[0m     \u001b[1;32mprint\u001b[0m\u001b[1;33m(\u001b[0m\u001b[1;34m\"got classifications\"\u001b[0m\u001b[1;33m)\u001b[0m\u001b[1;33m\u001b[0m\u001b[0m\n\u001b[0;32m     11\u001b[0m     \u001b[0mclassifier\u001b[0m \u001b[1;33m=\u001b[0m \u001b[0mlearn_classification\u001b[0m\u001b[1;33m(\u001b[0m\u001b[0mbinary_training_samples\u001b[0m\u001b[1;33m,\u001b[0m \u001b[0mclassifications\u001b[0m\u001b[1;33m)\u001b[0m\u001b[1;33m\u001b[0m\u001b[0m\n",
      "\u001b[1;32m<ipython-input-131-94b4a207348e>\u001b[0m in \u001b[0;36mclassify_training_samples\u001b[1;34m(num_array, primes)\u001b[0m\n\u001b[0;32m      7\u001b[0m     \u001b[0mclasses\u001b[0m \u001b[1;33m=\u001b[0m \u001b[0mnp\u001b[0m\u001b[1;33m.\u001b[0m\u001b[0mzeros\u001b[0m\u001b[1;33m(\u001b[0m\u001b[0mnum_array\u001b[0m\u001b[1;33m[\u001b[0m\u001b[1;33m-\u001b[0m\u001b[1;36m1\u001b[0m\u001b[1;33m]\u001b[0m\u001b[1;33m+\u001b[0m\u001b[1;36m1\u001b[0m\u001b[1;33m)\u001b[0m \u001b[1;31m# add 1 so that largest number is included in array\u001b[0m\u001b[1;33m\u001b[0m\u001b[0m\n\u001b[0;32m      8\u001b[0m     \u001b[1;32mfor\u001b[0m \u001b[0mi\u001b[0m \u001b[1;32min\u001b[0m \u001b[0mprimes\u001b[0m\u001b[1;33m:\u001b[0m\u001b[1;33m\u001b[0m\u001b[0m\n\u001b[1;32m----> 9\u001b[1;33m         \u001b[0mclasses\u001b[0m\u001b[1;33m[\u001b[0m\u001b[0mi\u001b[0m\u001b[1;33m]\u001b[0m \u001b[1;33m=\u001b[0m \u001b[1;36m1\u001b[0m\u001b[1;33m\u001b[0m\u001b[0m\n\u001b[0m\u001b[0;32m     10\u001b[0m     \u001b[1;32mreturn\u001b[0m \u001b[0mclasses\u001b[0m\u001b[1;33m\u001b[0m\u001b[0m\n",
      "\u001b[1;31mIndexError\u001b[0m: index 23 is out of bounds for axis 0 with size 20"
     ]
    }
   ],
   "source": [
    "x = do_machine_learning(file_of_primes, num_primes_to_use, training_primes, binary_number_lengths)\n",
    "print(x)"
   ]
  },
  {
   "cell_type": "code",
   "execution_count": 69,
   "metadata": {
    "collapsed": false
   },
   "outputs": [
    {
     "name": "stdout",
     "output_type": "stream",
     "text": [
      "01100001101001111111\n",
      "3.190238\n",
      "01100001101001111111\n",
      "3.300214\n"
     ]
    }
   ],
   "source": [
    "x=np.arange(400000)\n",
    "t0 = time.clock()\n",
    "y=convert_array_to_binary(x,20)\n",
    "print(y[-1])\n",
    "print(time.clock()-t0)\n",
    "t0 = time.clock()\n",
    "z=[convert_number_to_binary(i,20) for i in x]\n",
    "print(z[-1])\n",
    "print(time.clock()-t0)"
   ]
  },
  {
   "cell_type": "code",
   "execution_count": 144,
   "metadata": {
    "collapsed": false
   },
   "outputs": [
    {
     "name": "stdout",
     "output_type": "stream",
     "text": [
      "['0', '1', '0', '1', '0', '0', '1', '0', '1', '1', '0', '1', '1', '0', '1', '0', '1', '0', '1', '1', '1', '1']\n"
     ]
    }
   ],
   "source": [
    "x= '0101001011011010101111'\n",
    "print([i for i in x])"
   ]
  },
  {
   "cell_type": "code",
   "execution_count": 36,
   "metadata": {
    "collapsed": false
   },
   "outputs": [
    {
     "name": "stdout",
     "output_type": "stream",
     "text": [
      "[51 72 27 77 41 35 16 54 28 18]\n",
      "[ 0.  0.  0.  0.  0.  0.  0.  0.  0.  0.  0.  0.  0.  0.  0.  0.  1.  0.\n",
      "  1.  0.  0.  0.  0.  0.  0.  0.  0.  1.  1.  0.  0.  0.  0.  0.  0.  1.\n",
      "  0.  0.  0.  0.  0.  1.  0.  0.  0.  0.  0.  0.  0.  0.  0.  1.  0.  0.\n",
      "  1.  0.  0.  0.  0.  0.  0.  0.  0.  0.  0.  0.  0.  0.  0.  0.  0.  0.\n",
      "  1.  0.  0.  0.  0.  1.]\n"
     ]
    }
   ],
   "source": [
    "ints = np.random.randint(10,high=100,size=10)\n",
    "print(ints)\n",
    "array = np.arange(max(ints))\n",
    "classes = np.zeros(len(array)+1)\n",
    "for i in ints: # puts 1 at every index, using natural indexing; i.e.: print(classes[34]) will print 1 if 34 is in ints\n",
    "    # array, else 0\n",
    "    classes[i] = 1\n",
    "print(classes)"
   ]
  },
  {
   "cell_type": "code",
   "execution_count": 39,
   "metadata": {
    "collapsed": false
   },
   "outputs": [
    {
     "name": "stdout",
     "output_type": "stream",
     "text": [
      "0.0\n"
     ]
    }
   ],
   "source": [
    "print(classes[50])"
   ]
  },
  {
   "cell_type": "code",
   "execution_count": 21,
   "metadata": {
    "collapsed": false
   },
   "outputs": [
    {
     "data": {
      "image/png": "[encoded data removed]",
      "text/plain": [
       "<matplotlib.figure.Figure at 0xa62be10c>"
      ]
     },
     "metadata": {},
     "output_type": "display_data"
    },
    {
     "name": "stdout",
     "output_type": "stream",
     "text": [
      "4.043304\n"
     ]
    }
   ],
   "source": [
    "# this cell has some nasty stuff I used to plot the binary representations to visualize them\n",
    "\n",
    "totalTime = time.clock()\n",
    "\n",
    "my_nums = np.genfromtxt(file_of_primes)\n",
    "my_nums = np.ndarray.flatten(my_nums)\n",
    "my_nums = my_nums[0:int(num_primes_to_use)]\n",
    "\n",
    "if plot_diffs == False:\n",
    "    binaries = [np.binary_repr(x,width=24) for x in my_nums]\n",
    "    x_axis = []\n",
    "    y_axis = []\n",
    "    x_appender = x_axis.append # localize methods for slightly better performance\n",
    "    y_appender = y_axis.append\n",
    "\n",
    "    # now, get pts with a 1 in them, and make a list of these pts.  For each successive binary number, we need\n",
    "    # to increment the number we put in the array by a fixed amount, so the plotted pts for each number don't overlap.\n",
    "    # We then need to append an appropriate value to the end of the x_axis array\n",
    "    for i in xrange(len(binaries)):\n",
    "        for bit in xrange(len(binaries[i])):\n",
    "            if binaries[i][bit]=='1': # if bit is 1\n",
    "                x_appender(bit)\n",
    "                y_appender(i)\n",
    "\n",
    "    plt.hist2d(x_axis,y_axis,bins=[range(26),range(int(num_primes_to_use)+1)])\n",
    "    plt.xlim(0,25)\n",
    "    plt.show()\n",
    "\n",
    "else: # if we wanted to plot differences between successive primes\n",
    "    diffs = [my_nums[i+1] - my_nums[i] for i in xrange(len(my_nums)-1)]\n",
    "    diffs_x_axis = []\n",
    "    diffs_y_axis = []\n",
    "\n",
    "    binary_diffs = [np.binary_repr(x,width=24) for x in diffs]\n",
    "\n",
    "    for i in xrange(len(binary_diffs)):\n",
    "        for bit in xrange(len(binary_diffs[i])):\n",
    "            if binary_diffs[i][bit]=='1':\n",
    "                diffs_x_axis.append(bit)\n",
    "                diffs_y_axis.append(i)\n",
    "\n",
    "    plt.hist2d(diffs_x_axis,diffs_y_axis,bins=[range(26),range(int(num_primes_to_use)+1)])\n",
    "    plt.xlim(17 ,25)\n",
    "#     plt.show()\n",
    "\n",
    "print(time.clock() - totalTime)"
   ]
  },
  {
   "cell_type": "code",
   "execution_count": null,
   "metadata": {
    "collapsed": true
   },
   "outputs": [],
   "source": []
  }
 ],
 "metadata": {
  "kernelspec": {
   "display_name": "Python 2",
   "language": "python",
   "name": "python2"
  },
  "language_info": {
   "codemirror_mode": {
    "name": "ipython",
    "version": 2
   },
   "file_extension": ".py",
   "mimetype": "text/x-python",
   "name": "python",
   "nbconvert_exporter": "python",
   "pygments_lexer": "ipython2",
   "version": "2.7.11"
  }
 },
 "nbformat": 4,
 "nbformat_minor": 0
}
